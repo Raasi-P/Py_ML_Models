{
  "nbformat": 4,
  "nbformat_minor": 0,
  "metadata": {
    "colab": {
      "provenance": []
    },
    "kernelspec": {
      "name": "python3",
      "display_name": "Python 3"
    }
  },
  "cells": [
    {
      "cell_type": "markdown",
      "metadata": {
        "id": "Rk3hx-1bsxPg"
      },
      "source": [
        "# Naive Bayes Classifier\n",
        "# Defining Dataset"
      ]
    },
    {
      "cell_type": "code",
      "metadata": {
        "id": "WH7iNh2nsmAO"
      },
      "source": [
        "patients=['Sunny','Bunny','Munny','Bunny','Bunny','Munny','Bunny','Sunny','Sunny',\n",
        "'Munny','Sunny','Bunny','Munny','Munny','Sunny','Munny','Sunny','Bunny']\n",
        "symptoms=['cold','body pains','headache','caugh','headache','cold','caugh','body pains','headache',\n",
        "'body pains','caugh','cold','headache','caugh','cold','headache','body pains','caugh']\n",
        "fever=['No','No','Yes','Yes','No','Yes','No','Yes','No','Yes','No','Yes','Yes',\n",
        "'No','Yes','Yes','No','Yes']"
      ],
      "execution_count": null,
      "outputs": []
    },
    {
      "cell_type": "markdown",
      "metadata": {
        "id": "1X-37q9utAft"
      },
      "source": [
        "# Encoding Features"
      ]
    },
    {
      "cell_type": "code",
      "metadata": {
        "id": "dvrqSEfLl4mT"
      },
      "source": [
        "from sklearn import preprocessing\n",
        "from sklearn.naive_bayes import GaussianNB"
      ],
      "execution_count": null,
      "outputs": []
    },
    {
      "cell_type": "code",
      "metadata": {
        "id": "TbMOkSoxlHEY",
        "outputId": "c04d401c-d480-4637-968f-a2cc742fca3c",
        "colab": {
          "base_uri": "https://localhost:8080/"
        }
      },
      "source": [
        "le = preprocessing.LabelEncoder()\n",
        "patients_encoded=le.fit_transform(patients)\n",
        "symp_encoded=le.fit_transform(symptoms)\n",
        "label=le.fit_transform(fever)\n",
        "print(patients_encoded)\n",
        "print(symp_encoded)\n",
        "print(label)"
      ],
      "execution_count": null,
      "outputs": [
        {
          "output_type": "stream",
          "text": [
            "[2 0 1 0 0 1 0 2 2 1 2 0 1 1 2 1 2 0]\n",
            "[2 0 3 1 3 2 1 0 3 0 1 2 3 1 2 3 0 1]\n",
            "[0 0 1 1 0 1 0 1 0 1 0 1 1 0 1 1 0 1]\n"
          ],
          "name": "stdout"
        }
      ]
    },
    {
      "cell_type": "markdown",
      "metadata": {
        "id": "smtY6FHptYFC"
      },
      "source": [
        "# Generating Model"
      ]
    },
    {
      "cell_type": "code",
      "metadata": {
        "id": "KssW5RymmpTJ",
        "outputId": "272613d3-8f68-4808-8a73-f96f909cefe6",
        "colab": {
          "base_uri": "https://localhost:8080/"
        }
      },
      "source": [
        "features=list(zip(patients_encoded,symp_encoded))\n",
        "model = GaussianNB()\n",
        "model.fit(features,label)"
      ],
      "execution_count": null,
      "outputs": [
        {
          "output_type": "execute_result",
          "data": {
            "text/plain": [
              "GaussianNB(priors=None, var_smoothing=1e-09)"
            ]
          },
          "metadata": {
            "tags": []
          },
          "execution_count": 24
        }
      ]
    },
    {
      "cell_type": "code",
      "metadata": {
        "id": "I-vrq6C6nuxH",
        "outputId": "51f85d15-dc41-488e-abca-1fd6317c3d96",
        "colab": {
          "base_uri": "https://localhost:8080/"
        }
      },
      "source": [
        "print(\"Enter Patients and Symptoms conditions : \")\n",
        "p,s=map(int, input().split())"
      ],
      "execution_count": null,
      "outputs": [
        {
          "output_type": "stream",
          "text": [
            "Enter Patients and Symptoms conditions : \n",
            "1 3\n"
          ],
          "name": "stdout"
        }
      ]
    },
    {
      "cell_type": "code",
      "metadata": {
        "id": "CdLUDEh8nzGC",
        "outputId": "e88fd536-ce2d-49ef-f692-3656189cea48",
        "colab": {
          "base_uri": "https://localhost:8080/"
        }
      },
      "source": [
        "predicted= model.predict([[p,s]])\n",
        "print(\"Predicted Value:\",predicted)"
      ],
      "execution_count": null,
      "outputs": [
        {
          "output_type": "stream",
          "text": [
            "Predicted Value: [1]\n"
          ],
          "name": "stdout"
        }
      ]
    },
    {
      "cell_type": "markdown",
      "metadata": {
        "id": "5WqYRKDSt_8n"
      },
      "source": [
        "# Naive Bayes with Multiple Labels\n",
        "# Loading Data"
      ]
    },
    {
      "cell_type": "code",
      "metadata": {
        "id": "ckpull0Gpogv"
      },
      "source": [
        "from sklearn import datasets\n",
        "wine = datasets.load_wine()"
      ],
      "execution_count": null,
      "outputs": []
    },
    {
      "cell_type": "markdown",
      "metadata": {
        "id": "k8wVsCxnuR1W"
      },
      "source": [
        "# Exploring Data"
      ]
    },
    {
      "cell_type": "code",
      "metadata": {
        "id": "ONSTmH56qE5s",
        "outputId": "596da4b5-efdb-4b15-913c-76f48ea57b66",
        "colab": {
          "base_uri": "https://localhost:8080/"
        }
      },
      "source": [
        "print(\"Features: \", wine.feature_names)\n",
        "print(\"Labels: \", wine.target_names)"
      ],
      "execution_count": null,
      "outputs": [
        {
          "output_type": "stream",
          "text": [
            "Features:  ['alcohol', 'malic_acid', 'ash', 'alcalinity_of_ash', 'magnesium', 'total_phenols', 'flavanoids', 'nonflavanoid_phenols', 'proanthocyanins', 'color_intensity', 'hue', 'od280/od315_of_diluted_wines', 'proline']\n",
            "Labels:  ['class_0' 'class_1' 'class_2']\n"
          ],
          "name": "stdout"
        }
      ]
    },
    {
      "cell_type": "code",
      "metadata": {
        "id": "wUT6cVRMqUXk",
        "outputId": "51c978d8-3921-42f2-c9d0-ef1a88988ae2",
        "colab": {
          "base_uri": "https://localhost:8080/"
        }
      },
      "source": [
        "wine.data.shape"
      ],
      "execution_count": null,
      "outputs": [
        {
          "output_type": "execute_result",
          "data": {
            "text/plain": [
              "(178, 13)"
            ]
          },
          "metadata": {
            "tags": []
          },
          "execution_count": 29
        }
      ]
    },
    {
      "cell_type": "code",
      "metadata": {
        "id": "c1_8BX0JrBzM",
        "outputId": "d15357c2-1f3d-41d0-e2ea-e0f75a19231d",
        "colab": {
          "base_uri": "https://localhost:8080/"
        }
      },
      "source": [
        "wine.data.size"
      ],
      "execution_count": null,
      "outputs": [
        {
          "output_type": "execute_result",
          "data": {
            "text/plain": [
              "2314"
            ]
          },
          "metadata": {
            "tags": []
          },
          "execution_count": 32
        }
      ]
    },
    {
      "cell_type": "code",
      "metadata": {
        "id": "L9FQFl1brG3x",
        "outputId": "f6b36eb3-011a-4639-fc3b-956c65dbf5c7",
        "colab": {
          "base_uri": "https://localhost:8080/"
        }
      },
      "source": [
        "wine.data.ndim"
      ],
      "execution_count": null,
      "outputs": [
        {
          "output_type": "execute_result",
          "data": {
            "text/plain": [
              "2"
            ]
          },
          "metadata": {
            "tags": []
          },
          "execution_count": 33
        }
      ]
    },
    {
      "cell_type": "code",
      "metadata": {
        "id": "ce_OXtCsqc5b",
        "outputId": "d482eed0-edfb-4fed-d66a-60c7d26cb19c",
        "colab": {
          "base_uri": "https://localhost:8080/"
        }
      },
      "source": [
        "print(wine.data[0:8])"
      ],
      "execution_count": null,
      "outputs": [
        {
          "output_type": "stream",
          "text": [
            "[[1.423e+01 1.710e+00 2.430e+00 1.560e+01 1.270e+02 2.800e+00 3.060e+00\n",
            "  2.800e-01 2.290e+00 5.640e+00 1.040e+00 3.920e+00 1.065e+03]\n",
            " [1.320e+01 1.780e+00 2.140e+00 1.120e+01 1.000e+02 2.650e+00 2.760e+00\n",
            "  2.600e-01 1.280e+00 4.380e+00 1.050e+00 3.400e+00 1.050e+03]\n",
            " [1.316e+01 2.360e+00 2.670e+00 1.860e+01 1.010e+02 2.800e+00 3.240e+00\n",
            "  3.000e-01 2.810e+00 5.680e+00 1.030e+00 3.170e+00 1.185e+03]\n",
            " [1.437e+01 1.950e+00 2.500e+00 1.680e+01 1.130e+02 3.850e+00 3.490e+00\n",
            "  2.400e-01 2.180e+00 7.800e+00 8.600e-01 3.450e+00 1.480e+03]\n",
            " [1.324e+01 2.590e+00 2.870e+00 2.100e+01 1.180e+02 2.800e+00 2.690e+00\n",
            "  3.900e-01 1.820e+00 4.320e+00 1.040e+00 2.930e+00 7.350e+02]\n",
            " [1.420e+01 1.760e+00 2.450e+00 1.520e+01 1.120e+02 3.270e+00 3.390e+00\n",
            "  3.400e-01 1.970e+00 6.750e+00 1.050e+00 2.850e+00 1.450e+03]\n",
            " [1.439e+01 1.870e+00 2.450e+00 1.460e+01 9.600e+01 2.500e+00 2.520e+00\n",
            "  3.000e-01 1.980e+00 5.250e+00 1.020e+00 3.580e+00 1.290e+03]\n",
            " [1.406e+01 2.150e+00 2.610e+00 1.760e+01 1.210e+02 2.600e+00 2.510e+00\n",
            "  3.100e-01 1.250e+00 5.050e+00 1.060e+00 3.580e+00 1.295e+03]]\n"
          ],
          "name": "stdout"
        }
      ]
    },
    {
      "cell_type": "code",
      "metadata": {
        "id": "OQxlHAJAqnT7",
        "outputId": "e7dee746-b219-441d-9fcb-0eb95e39b33a",
        "colab": {
          "base_uri": "https://localhost:8080/"
        }
      },
      "source": [
        "print(wine.target)"
      ],
      "execution_count": null,
      "outputs": [
        {
          "output_type": "stream",
          "text": [
            "[0 0 0 0 0 0 0 0 0 0 0 0 0 0 0 0 0 0 0 0 0 0 0 0 0 0 0 0 0 0 0 0 0 0 0 0 0\n",
            " 0 0 0 0 0 0 0 0 0 0 0 0 0 0 0 0 0 0 0 0 0 0 1 1 1 1 1 1 1 1 1 1 1 1 1 1 1\n",
            " 1 1 1 1 1 1 1 1 1 1 1 1 1 1 1 1 1 1 1 1 1 1 1 1 1 1 1 1 1 1 1 1 1 1 1 1 1\n",
            " 1 1 1 1 1 1 1 1 1 1 1 1 1 1 1 1 1 1 1 2 2 2 2 2 2 2 2 2 2 2 2 2 2 2 2 2 2\n",
            " 2 2 2 2 2 2 2 2 2 2 2 2 2 2 2 2 2 2 2 2 2 2 2 2 2 2 2 2 2 2]\n"
          ],
          "name": "stdout"
        }
      ]
    }
  ]
}