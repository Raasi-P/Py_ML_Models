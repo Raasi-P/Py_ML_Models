{
  "nbformat": 4,
  "nbformat_minor": 0,
  "metadata": {
    "colab": {
      "provenance": []
    },
    "kernelspec": {
      "name": "python3",
      "display_name": "Python 3"
    }
  },
  "cells": [
    {
      "cell_type": "code",
      "metadata": {
        "id": "qq_xegVJlrt0",
        "outputId": "23beb976-a5b6-4f2d-c751-12a66a3ee3b1",
        "colab": {
          "base_uri": "https://localhost:8080/",
          "height": 286
        }
      },
      "source": [
        "import scipy.spatial.distance as dist\n",
        "import numpy as np\n",
        "\n",
        "# Prepare 2 vectors (data points) of 10 dimensions\n",
        "A = np.random.uniform(0, 10, 10)\n",
        "B = np.random.uniform(0, 10, 10)\n",
        "\n",
        "print( '\\n2 10-dimensional vectors')\n",
        "print( '------------------------')\n",
        "print (A)\n",
        "print (B)\n",
        "\n",
        "# Prepare 2 vectors of 100 dimensions\n",
        "AA = np.random.uniform(0, 10, 100)\n",
        "BB = np.random.uniform(0, 10, 100)\n",
        "\n",
        "# Perform distance measurements\n",
        "print ('\\nDistance measurements with 100-dimensional vectors')\n",
        "print( '--------------------------------------------------')\n",
        "print ('\\nEuclidean distance is', dist.euclidean(AA, BB))\n",
        "print ('Manhattan distance is', dist.cityblock(AA, BB))\n",
        "print ('Chebyshev distance is', dist.chebyshev(AA, BB))\n",
        "print ('Canberra distance is', dist.canberra(AA, BB))\n",
        "print ('Cosine distance is', dist.cosine(AA, BB))"
      ],
      "execution_count": null,
      "outputs": [
        {
          "output_type": "stream",
          "text": [
            "\n",
            "2 10-dimensional vectors\n",
            "------------------------\n",
            "[2.61728756 5.43869392 7.36255911 2.33373852 1.65836125 2.97578089\n",
            " 7.10089731 8.77986451 0.7887459  8.49700281]\n",
            "[1.32559669 5.26420535 1.56587576 2.95125503 5.40062698 2.21958373\n",
            " 5.75564776 3.02854397 4.47022152 5.52410398]\n",
            "\n",
            "Distance measurements with 100-dimensional vectors\n",
            "--------------------------------------------------\n",
            "\n",
            "Euclidean distance is 43.08064687388865\n",
            "Manhattan distance is 350.8222677046249\n",
            "Chebyshev distance is 9.31375897095935\n",
            "Canberra distance is 38.37329379975167\n",
            "Cosine distance is 0.2675116369407513\n"
          ],
          "name": "stdout"
        }
      ]
    },
    {
      "cell_type": "code",
      "metadata": {
        "id": "e_3Jo98ZmKcH"
      },
      "source": [],
      "execution_count": null,
      "outputs": []
    }
  ]
}